{
 "cells": [
  {
   "cell_type": "markdown",
   "id": "1fc0be5c",
   "metadata": {},
   "source": [
    "# Assignment 17.1"
   ]
  },
  {
   "cell_type": "markdown",
   "id": "97438151",
   "metadata": {},
   "source": [
    "### The goal in this assignment is to compare the performance of the classifiers (k-nearest neighbors, logistic regression, decision trees, and support vector machines)."
   ]
  },
  {
   "cell_type": "code",
   "execution_count": null,
   "id": "3d578eec",
   "metadata": {},
   "outputs": [],
   "source": [
    "import numpy as np\n",
    "import pandas as pd\n",
    "import matplotlib.pyplot as plt\n",
    "from sklearn.model_selection import train_test_split\n",
    "from sklearn.preprocessing import LabelEncoder\n",
    "from sklearn.metrics import confusion_matrix, ConfusionMatrixDisplay\n",
    "\n",
    "from sklearn.tree import DecisionTreeClassifier\n",
    "from sklearn.neighbors import KNeighborsClassifier\n",
    "from sklearn.linear_model import LogisticRegression\n",
    "from sklearn.svm import SVC\n",
    "\n",
    "import time"
   ]
  },
  {
   "cell_type": "markdown",
   "id": "117c7d9a",
   "metadata": {},
   "source": [
    "## "
   ]
  },
  {
   "cell_type": "markdown",
   "id": "0cfdb66c",
   "metadata": {},
   "source": [
    "## Step 1: Business Understanding"
   ]
  },
  {
   "cell_type": "markdown",
   "id": "9853a451",
   "metadata": {},
   "source": [
    "Problem Statement: Accurately classify potential customers into those with high propensity to subscribe to a term deposit so that sales/ telemarketers can target the right group of customers to contact."
   ]
  },
  {
   "cell_type": "markdown",
   "id": "912c2938",
   "metadata": {},
   "source": [
    "Measure of Effective: Here, the accuracy score is used to score the performance of the classification models. \n",
    "\n",
    "Two measures of performance were also included: \n",
    "\n",
    "   (a) the fitting time of the model and \n",
    "\n",
    "   (b) the percentage of customers to call (predicted == “Yes”) should not exceed the percentage called in the previous campaign = 18%. \n",
    "\n",
    "This latter metric is added so that the number of customers to call is manageable otherwise it would be costly to the banks to employ too many telemarketers."
   ]
  },
  {
   "cell_type": "code",
   "execution_count": null,
   "id": "f7eb2843",
   "metadata": {},
   "outputs": [],
   "source": [
    "# Here, we load in the data.  The data is semi-colon separated so we included the constructor sep = ';'\n",
    "# This bank data set was acquired and used and this data can be found in https://archive.ics.uci.edu/dataset/222/bank+marketing.\n",
    "\n",
    "data = pd.read_csv('data/bank-full.csv', sep=';') "
   ]
  },
  {
   "cell_type": "code",
   "execution_count": null,
   "id": "0e6c9988",
   "metadata": {},
   "outputs": [],
   "source": [
    "data.head(5)"
   ]
  },
  {
   "cell_type": "markdown",
   "id": "8f5d9f31",
   "metadata": {},
   "source": [
    "# "
   ]
  },
  {
   "cell_type": "markdown",
   "id": "56acfa88",
   "metadata": {},
   "source": [
    "## Step 2: Understanding the Data \n",
    "\n",
    "It was expected that client data, business data, outcome of previous campaign data (if contacted by sales personnel) and if the client subscribed to the term deposit was important. Hence, the bank data set was acquired and used and this data can be found in https://archive.ics.uci.edu/dataset/222/bank+marketing.\n",
    "\n",
    "##### Bank Client Data\n",
    "\n",
    "1 - age (numeric)\n",
    "\n",
    "2 - job : type of job (categorical: \"admin.\",\"unknown\",\"unemployed\",\"management\",\"housemaid\",\"entrepreneur\",\"student\", \"blue-collar\",\"self-employed\",\"retired\",\"technician\",\"services\")\n",
    "\n",
    "3 - marital : marital status (categorical: \"married\",\"divorced\",\"single\"; note: \"divorced\" means divorced or widowed)\n",
    "\n",
    "4 - education (categorical: \"unknown\",\"secondary\",\"primary\",\"tertiary\")\n",
    "\n",
    "5 - default: has credit in default? (binary: \"yes\",\"no\")\n",
    "\n",
    "6 - balance: average yearly balance, in euros (numeric)\n",
    "\n",
    "7 - housing: has housing loan? (binary: \"yes\",\"no\")\n",
    "\n",
    "8 - loan: has personal loan? (binary: \"yes\",\"no\")\n",
    "\n",
    "##### related with the last contact of the current campaign:\n",
    "\n",
    "9 - contact: contact communication type (categorical: \"unknown\",\"telephone\",\"cellular\")\n",
    "\n",
    "10 - day: last contact day of the month (numeric)\n",
    "\n",
    "11 - month: last contact month of year (categorical: \"jan\", \"feb\", \"mar\", ..., \"nov\", \"dec\")\n",
    "\n",
    "12 - duration: last contact duration, in seconds (numeric)\n",
    "\n",
    "##### other attributes:\n",
    "\n",
    "13 - campaign: number of contacts performed during this campaign and for this client (numeric, includes last contact)\n",
    "\n",
    "14 - pdays: number of days that passed by after the client was last contacted from a previous campaign (numeric, -1 means client was not previously contacted)\n",
    "\n",
    "15 - previous: number of contacts performed before this campaign and for this client (numeric)\n",
    "\n",
    "16 - poutcome: outcome of the previous marketing campaign (categorical: \"unknown\",\"other\",\"failure\",\"success\")\n",
    "\n",
    "##### Output variable (desired target):\n",
    "\n",
    "17 - y - has the client subscribed a term deposit? (binary: \"yes\",\"no\")"
   ]
  },
  {
   "cell_type": "markdown",
   "id": "4f339659",
   "metadata": {},
   "source": [
    "# \n"
   ]
  },
  {
   "cell_type": "markdown",
   "id": "76ebe205",
   "metadata": {},
   "source": [
    "### Understanding the Data\n",
    "\n",
    "First, I split the data into 2 groups, one containing customers who were previously contacted; the other containing customers who weren’t. It was observed that 18% of the customers were contacted in the previous campaign.\n",
    "\n",
    "##### Customers contacted in the previous campaign\n"
   ]
  },
  {
   "cell_type": "code",
   "execution_count": null,
   "id": "f64e0bc9",
   "metadata": {},
   "outputs": [],
   "source": [
    "# Customers who were contacted in the previous campaign\n",
    "data_campaign = data[data['pdays'] != -1]\n",
    "success_campaign = len(data_campaign[data_campaign['y']=='yes'])\n",
    "success_campaign_prop = success_campaign/len(data_campaign)\n",
    "print('Number of customers contacted in the previous campaign = ' + str(len(data_campaign)))\n",
    "print('Percentage of customers contacted in the previous campaign = ' + str(100*len(data_campaign)/len(data)) + '%')"
   ]
  },
  {
   "cell_type": "markdown",
   "id": "d7c604e8",
   "metadata": {},
   "source": [
    "##### Customers not contacted in the previous campaign"
   ]
  },
  {
   "cell_type": "code",
   "execution_count": null,
   "id": "0992b6e1",
   "metadata": {},
   "outputs": [],
   "source": [
    "# Customers not contacted in the previous campaign\n",
    "data_no_campaign = data[data['pdays'] == -1]\n",
    "success_no_campaign = len(data_no_campaign[data_no_campaign['y']=='yes'])\n",
    "success_no_campaign_prop = success_no_campaign/len(data_no_campaign)\n",
    "print('Number of customers not contacted in the previous campaign = ' + str(len(data_no_campaign)))\n",
    "print('Percentage of customers not contacted in the previous campaign = ' + str(100*len(data_no_campaign)/len(data)) + '%')"
   ]
  },
  {
   "cell_type": "markdown",
   "id": "624dee16",
   "metadata": {},
   "source": [
    "##### Customer success rate based on whether they are contacted or not"
   ]
  },
  {
   "cell_type": "code",
   "execution_count": null,
   "id": "59f8d1d6",
   "metadata": {},
   "outputs": [],
   "source": [
    "plt.bar(['contacted and subscribed', 'not contacted and subscribed'], [success_campaign_prop,success_no_campaign_prop], color='Green')\n",
    "plt.title(\"Proportion of Success\")\n",
    "plt.xticks(rotation=40)"
   ]
  },
  {
   "cell_type": "markdown",
   "id": "463d39c5",
   "metadata": {},
   "source": [
    "##### Count of customers in each group"
   ]
  },
  {
   "cell_type": "code",
   "execution_count": null,
   "id": "90f4e3dd",
   "metadata": {},
   "outputs": [],
   "source": [
    "plt.bar(['contacted and subscribed', 'not contacted and subscribed'], [success_campaign,success_no_campaign], color='Green')\n",
    "plt.bar(['contacted and not subscribed', 'not contacted and not subscribed'], [len(data_campaign)-success_campaign,len(data_no_campaign)-success_no_campaign], color='red')\n",
    "plt.title(\"Count of Customers\")\n",
    "plt.xticks(rotation=40)"
   ]
  },
  {
   "cell_type": "markdown",
   "id": "7e7815a3",
   "metadata": {},
   "source": [
    "# "
   ]
  },
  {
   "cell_type": "markdown",
   "id": "aab2f745",
   "metadata": {},
   "source": [
    "## Step 3: Data Preparation "
   ]
  },
  {
   "cell_type": "markdown",
   "id": "1021e44d",
   "metadata": {},
   "source": [
    "For fields with “yes” and “no” option, I replaced them with 1 and 0 respectively. For the other fields such as “marital” and “job” data, they were digitised using LabelEncoder."
   ]
  },
  {
   "cell_type": "code",
   "execution_count": null,
   "id": "de6793ff",
   "metadata": {},
   "outputs": [],
   "source": [
    "#default, housing loan -> no = 0; yes = 1\n",
    "\n",
    "data['default'] =data['default'].replace(to_replace=['no', 'yes'], value=[0, 1])\n",
    "data['housing'] =data['housing'].replace(to_replace=['no', 'yes'], value=[0, 1])\n",
    "data['loan'] =data['loan'].replace(to_replace=['no', 'yes'], value=[0, 1])\n"
   ]
  },
  {
   "cell_type": "code",
   "execution_count": null,
   "id": "86a239db",
   "metadata": {},
   "outputs": [],
   "source": [
    "#transform job, marital, education, contact to numerical values\n",
    "\n",
    "le = LabelEncoder()\n",
    "data['marital_num'] = le.fit_transform(data['marital'])\n",
    "data['job_num'] = le.fit_transform(data['job'])\n",
    "data['education_num'] = le.fit_transform(data['education'])\n",
    "data['contact_num'] = le.fit_transform(data['contact'])\n",
    "data['poutcome_num'] = le.fit_transform(data['poutcome'])\n"
   ]
  },
  {
   "cell_type": "code",
   "execution_count": null,
   "id": "87b898ee",
   "metadata": {},
   "outputs": [],
   "source": [
    "#remove month, day as they are represented in pdays\n",
    "#remove job, marital, education, contact, poutcome as numerical values included\n",
    "\n",
    "X=data.drop(columns = ['marital', 'job', 'education','contact', 'poutcome','y', 'day', 'month'])"
   ]
  },
  {
   "cell_type": "code",
   "execution_count": null,
   "id": "7bdc2455",
   "metadata": {},
   "outputs": [],
   "source": [
    "y=data['y']"
   ]
  },
  {
   "cell_type": "markdown",
   "id": "01003120",
   "metadata": {},
   "source": [
    "Split the data into training and development sets in the ratio of 70-30 "
   ]
  },
  {
   "cell_type": "code",
   "execution_count": null,
   "id": "d914f228",
   "metadata": {},
   "outputs": [],
   "source": [
    "X_train, X_test, y_train, y_test=train_test_split(X, y, test_size=0.3)"
   ]
  },
  {
   "cell_type": "markdown",
   "id": "8bbb57e4",
   "metadata": {},
   "source": [
    "# "
   ]
  },
  {
   "cell_type": "markdown",
   "id": "fb250da8",
   "metadata": {},
   "source": [
    "## Step 4: Modelling \n",
    "\n",
    "4 models were used, namely Logistic Regression, Decision Tree, k Nearest Neighbors and Support Vector Machine "
   ]
  },
  {
   "cell_type": "markdown",
   "id": "379696a9",
   "metadata": {},
   "source": [
    "##### Logistic Regression"
   ]
  },
  {
   "cell_type": "code",
   "execution_count": null,
   "id": "d892ae35",
   "metadata": {},
   "outputs": [],
   "source": [
    "start_time = time.time()\n",
    "logreg =LogisticRegression(max_iter=10_000).fit(X_train, y_train)\n",
    "end_time = time.time()\n",
    "timer_logreg = end_time - start_time"
   ]
  },
  {
   "cell_type": "markdown",
   "id": "0287f528",
   "metadata": {},
   "source": [
    "##### Decision Tree"
   ]
  },
  {
   "cell_type": "code",
   "execution_count": null,
   "id": "00733464",
   "metadata": {},
   "outputs": [],
   "source": [
    "start_time = time.time()\n",
    "DecTree =DecisionTreeClassifier().fit(X_train, y_train)\n",
    "end_time = time.time()\n",
    "timer_DecTree = end_time - start_time"
   ]
  },
  {
   "cell_type": "markdown",
   "id": "abe004fe",
   "metadata": {},
   "source": [
    "##### k Nearest Neighbors"
   ]
  },
  {
   "cell_type": "code",
   "execution_count": null,
   "id": "08815179",
   "metadata": {},
   "outputs": [],
   "source": [
    "start_time = time.time()\n",
    "knn =KNeighborsClassifier().fit(X_train, y_train)\n",
    "end_time = time.time()\n",
    "timer_knn = end_time - start_time"
   ]
  },
  {
   "cell_type": "markdown",
   "id": "fb026c9d",
   "metadata": {},
   "source": [
    "##### Support Vector Machine"
   ]
  },
  {
   "cell_type": "code",
   "execution_count": null,
   "id": "8988fdb0",
   "metadata": {},
   "outputs": [],
   "source": [
    "start_time = time.time()\n",
    "svc =SVC().fit(X_train, y_train)\n",
    "end_time = time.time()\n",
    "timer_svc = end_time - start_time"
   ]
  },
  {
   "cell_type": "markdown",
   "id": "45ef6457",
   "metadata": {},
   "source": [
    "# "
   ]
  },
  {
   "cell_type": "markdown",
   "id": "69dd84be",
   "metadata": {},
   "source": [
    "## Step 5: Evaluation "
   ]
  },
  {
   "cell_type": "markdown",
   "id": "9aab25b4",
   "metadata": {},
   "source": [
    "First, I look at the performance matrix for the 4 models and the confusion matrices "
   ]
  },
  {
   "cell_type": "markdown",
   "id": "c61c5603",
   "metadata": {},
   "source": [
    "##### Performance matrix for the 4 models\n",
    "\n",
    "From the matrix below, logistic regression recorded the best accuracy score for the development set, followed by the SVM, KNN and Decision Tree. However, the KNN took the shortest time to fit the model, followed by the Decision Tree, Logistic Regression and SVM. Since the fitting times were all tolerable and the accuracy score was the measure of effectiveness, the Logistic Regression Model appears to be the best model. In addition, the workload for the Logistic Regression was 3.5% which is way lower than the original 18%. "
   ]
  },
  {
   "cell_type": "code",
   "execution_count": null,
   "id": "493a555c",
   "metadata": {},
   "outputs": [],
   "source": [
    "res_dict = {'model': ['Logistic Regression', 'Decision Tree', 'KNN', 'SVM'], #logistic regression, decision trees, KNN, and SVMs\n",
    "           'train score': [logreg.score(X_train, y_train), DecTree.score(X_train, y_train), \n",
    "                           knn.score(X_train, y_train), svc.score(X_train, y_train)],\n",
    "           'test score': [logreg.score(X_test, y_test), DecTree.score(X_test, y_test), \n",
    "                           knn.score(X_test, y_test), svc.score(X_test, y_test)],\n",
    "           'fitting time': [timer_logreg, timer_DecTree, timer_knn, timer_svc],\n",
    "           'proportion yes predictions': [pd.Series(logreg.predict(X_test)).value_counts()['yes']/len(y_test), \n",
    "                                          pd.Series(DecTree.predict(X_test)).value_counts()['yes']/len(y_test),\n",
    "                                          pd.Series(knn.predict(X_test)).value_counts()['yes']/len(y_test),\n",
    "                                          pd.Series(svc.predict(X_test)).value_counts()['yes']/len(y_test)\n",
    "                                         ]\n",
    "           }\n",
    "results_df = pd.DataFrame(res_dict).set_index('model')\n",
    "results_df"
   ]
  },
  {
   "cell_type": "markdown",
   "id": "fda75035",
   "metadata": {},
   "source": [
    "Confusion matrices were added to enrich the analysis. \n",
    "\n",
    "##### Confusion Matrix - Logistic Regression \n",
    "\n"
   ]
  },
  {
   "cell_type": "code",
   "execution_count": null,
   "id": "12daa7ec",
   "metadata": {},
   "outputs": [],
   "source": [
    "ConfusionMatrixDisplay.from_estimator(logreg, X_test, y_test)\n",
    "plt.title('Logistic Regression')"
   ]
  },
  {
   "attachments": {},
   "cell_type": "markdown",
   "id": "b0fe0f43",
   "metadata": {},
   "source": [
    "##### Confusion Matrix - Decision Tree"
   ]
  },
  {
   "cell_type": "code",
   "execution_count": null,
   "id": "ef4d2218",
   "metadata": {},
   "outputs": [],
   "source": [
    "ConfusionMatrixDisplay.from_estimator(DecTree, X_test, y_test)\n",
    "plt.title('Decision Tree')"
   ]
  },
  {
   "cell_type": "markdown",
   "id": "89953b70",
   "metadata": {},
   "source": [
    "##### Confusion Matrix - k Nearest Neighbors"
   ]
  },
  {
   "cell_type": "code",
   "execution_count": null,
   "id": "10d48125",
   "metadata": {},
   "outputs": [],
   "source": [
    "ConfusionMatrixDisplay.from_estimator(knn, X_test, y_test)\n",
    "plt.title('k Nearest Neighbors')"
   ]
  },
  {
   "cell_type": "markdown",
   "id": "ff680ecd",
   "metadata": {},
   "source": [
    "##### Confusion Matrix - Support Vector Machine"
   ]
  },
  {
   "cell_type": "code",
   "execution_count": null,
   "id": "ab311102",
   "metadata": {},
   "outputs": [],
   "source": [
    "ConfusionMatrixDisplay.from_estimator(svc, X_test, y_test)\n",
    "plt.title('SVC')"
   ]
  },
  {
   "cell_type": "markdown",
   "id": "79f4ad36",
   "metadata": {},
   "source": [
    "# "
   ]
  },
  {
   "cell_type": "markdown",
   "id": "e752d1e6",
   "metadata": {},
   "source": [
    "### Sensitivity Analysis - Analysing without data from customer who were not contacted and did not subscribe to the term deposit"
   ]
  },
  {
   "cell_type": "markdown",
   "id": "ca81debb",
   "metadata": {},
   "source": [
    "As it was hard to tell if the group of customers who were not contacted and did not subscribe to the term deposit were indeed not interested in the term deposit or was simply unaware of the campaign, I decided to rerun the model without the group of customers who were not contacted and did not subscribe to the term deposit. "
   ]
  },
  {
   "cell_type": "markdown",
   "id": "75606c8c",
   "metadata": {},
   "source": [
    "##### Create new_data to remove the group of customers who were not contacted and did not subscribe to the term deposit "
   ]
  },
  {
   "cell_type": "code",
   "execution_count": null,
   "id": "0010c79a",
   "metadata": {},
   "outputs": [],
   "source": [
    "#remove customer who did not participate in past campaign and did not subscribe\n",
    "data_no_campaign= data[data['pdays']==-1]\n",
    "data_no_campaign_success = data_no_campaign[data_no_campaign['y']=='yes']\n",
    "data_campaign= data[data['pdays']!=-1]\n",
    "new_data = data_campaign.append(data_no_campaign_success)"
   ]
  },
  {
   "cell_type": "code",
   "execution_count": null,
   "id": "940ac929",
   "metadata": {},
   "outputs": [],
   "source": [
    "X1 = new_data.drop(columns = ['marital', 'job', 'education','contact', 'poutcome','y', 'day', 'month'])\n",
    "y1 = new_data['y']"
   ]
  },
  {
   "cell_type": "code",
   "execution_count": null,
   "id": "15fb873b",
   "metadata": {},
   "outputs": [],
   "source": [
    "X1_train, X1_test, y1_train, y1_test=train_test_split(X1, y1, test_size=0.3)"
   ]
  },
  {
   "cell_type": "markdown",
   "id": "f39982ac",
   "metadata": {},
   "source": [
    "##### Logistic Regression on new_data"
   ]
  },
  {
   "cell_type": "code",
   "execution_count": null,
   "id": "16cefeaa",
   "metadata": {},
   "outputs": [],
   "source": [
    "start_time = time.time()\n",
    "logreg1 =LogisticRegression(max_iter=10_000).fit(X1_train, y1_train)\n",
    "end_time = time.time()\n",
    "timer_logreg1 = end_time - start_time"
   ]
  },
  {
   "cell_type": "markdown",
   "id": "69b8a274",
   "metadata": {},
   "source": [
    "##### Decision Tree on new_data"
   ]
  },
  {
   "cell_type": "code",
   "execution_count": null,
   "id": "87753f87",
   "metadata": {},
   "outputs": [],
   "source": [
    "start_time = time.time()\n",
    "DecTree1 =DecisionTreeClassifier().fit(X1_train, y1_train)\n",
    "end_time = time.time()\n",
    "timer_DecTree1 = end_time - start_time"
   ]
  },
  {
   "cell_type": "markdown",
   "id": "44a66fd5",
   "metadata": {},
   "source": [
    "##### k Nearest Neighbors on new_data"
   ]
  },
  {
   "cell_type": "code",
   "execution_count": null,
   "id": "2aa276ca",
   "metadata": {},
   "outputs": [],
   "source": [
    "start_time = time.time()\n",
    "knn1 =KNeighborsClassifier().fit(X1_train, y1_train)\n",
    "end_time = time.time()\n",
    "timer_knn1 = end_time - start_time"
   ]
  },
  {
   "cell_type": "markdown",
   "id": "b57e1eeb",
   "metadata": {},
   "source": [
    "##### Support Vector Machine on new_data"
   ]
  },
  {
   "cell_type": "code",
   "execution_count": null,
   "id": "8e13a59a",
   "metadata": {},
   "outputs": [],
   "source": [
    "start_time = time.time()\n",
    "svc1 =SVC().fit(X1_train, y1_train)\n",
    "end_time = time.time()\n",
    "timer_svc1 = end_time - start_time"
   ]
  },
  {
   "cell_type": "markdown",
   "id": "42893cea",
   "metadata": {},
   "source": [
    "##### Performance matrix on new_data"
   ]
  },
  {
   "cell_type": "code",
   "execution_count": null,
   "id": "b8e6e479",
   "metadata": {},
   "outputs": [],
   "source": [
    "res_dict1 = {'model': ['Logistic Regression', 'Decision Tree', 'KNN', 'SVM'], #logistic regression, decision trees, KNN, and SVMs\n",
    "           'train score': [logreg1.score(X1_train, y1_train), DecTree1.score(X1_train, y1_train), \n",
    "                           knn1.score(X1_train, y1_train), svc1.score(X1_train, y1_train)],\n",
    "           'test score': [logreg1.score(X1_test, y1_test), DecTree1.score(X1_test, y1_test), \n",
    "                           knn1.score(X1_test, y1_test), svc1.score(X1_test, y1_test)],\n",
    "           'fitting time': [timer_logreg1, timer_DecTree1, timer_knn1, timer_svc1],\n",
    "           'proportion yes predictions': [pd.Series(logreg1.predict(X1_test)).value_counts()['yes']/len(y1_test), \n",
    "                                          pd.Series(DecTree1.predict(X1_test)).value_counts()['yes']/len(y1_test),\n",
    "                                          pd.Series(knn1.predict(X1_test)).value_counts()['yes']/len(y1_test),\n",
    "                                          pd.Series(svc1.predict(X1_test)).value_counts()['yes']/len(y1_test)\n",
    "                                         ]\n",
    "           }\n",
    "results_df1 = pd.DataFrame(res_dict1).set_index('model')\n",
    "results_df1"
   ]
  },
  {
   "cell_type": "markdown",
   "id": "052340d9",
   "metadata": {},
   "source": [
    "##### Confusion Matrix on new_data"
   ]
  },
  {
   "cell_type": "code",
   "execution_count": null,
   "id": "bb3ec455",
   "metadata": {},
   "outputs": [],
   "source": [
    "ConfusionMatrixDisplay.from_estimator(logreg, X_test, y_test)\n",
    "plt.title('Logistic Regression')\n",
    "ConfusionMatrixDisplay.from_estimator(DecTree, X_test, y_test)\n",
    "plt.title('Decision Tree')\n",
    "ConfusionMatrixDisplay.from_estimator(knn, X_test, y_test)\n",
    "plt.title('k Nearest Neighbors')\n",
    "ConfusionMatrixDisplay.from_estimator(svc, X_test, y_test)\n",
    "plt.title('SVC')"
   ]
  },
  {
   "cell_type": "markdown",
   "id": "4924e8cb",
   "metadata": {},
   "source": [
    "# "
   ]
  },
  {
   "cell_type": "markdown",
   "id": "36d2c25e",
   "metadata": {},
   "source": [
    "## Step 6: Deployment "
   ]
  },
  {
   "cell_type": "markdown",
   "id": "8f6cfdea",
   "metadata": {},
   "source": [
    "Since the accuracy of the model was no better off in the sensitivity study but the workload becomes significantly higher, it was better to deploy the original Logistic Regression model for 2 reasons. First, test score was slightly better and next, the workload was significantly lower for the original model.\n",
    "\n",
    "Next Steps and recommendations:\n",
    "\n",
    "a. It is recommended that Logistic Regression model be deployed for the next campaign and new data be collated to further refine the model\n",
    "\n",
    "b. Even though this is a classification model, a time series model can be deployed if there is sufficient data collated over a few campaign\n",
    "\n",
    "c. External data such as economic data can be collated to enrich the analysis as state of the economy can have an impact on people’s propensity to take up term deposit."
   ]
  },
  {
   "cell_type": "code",
   "execution_count": null,
   "id": "983328d9",
   "metadata": {},
   "outputs": [],
   "source": []
  }
 ],
 "metadata": {
  "kernelspec": {
   "display_name": "Python 3 (ipykernel)",
   "language": "python",
   "name": "python3"
  },
  "language_info": {
   "codemirror_mode": {
    "name": "ipython",
    "version": 3
   },
   "file_extension": ".py",
   "mimetype": "text/x-python",
   "name": "python",
   "nbconvert_exporter": "python",
   "pygments_lexer": "ipython3",
   "version": "3.9.13"
  }
 },
 "nbformat": 4,
 "nbformat_minor": 5
}
